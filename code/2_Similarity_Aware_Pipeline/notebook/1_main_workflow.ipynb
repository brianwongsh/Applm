{
 "cells": [
  {
   "cell_type": "code",
   "execution_count": 1,
   "id": "84a73ba6",
   "metadata": {},
   "outputs": [],
   "source": [
    "import _pickle as cPickle\n",
    "import numpy as np\n",
    "import h5py\n",
    "from operator import itemgetter\n",
    "import copy\n",
    "import random\n",
    "from tqdm import tqdm\n",
    "from collections import Counter, defaultdict\n",
    "\n",
    "import sys\n",
    "sys.path.append(\"../utils/\")\n",
    "import sequenceDatabaseObject as sdo\n",
    "import utils as su"
   ]
  },
  {
   "cell_type": "markdown",
   "id": "16ef40f5",
   "metadata": {},
   "source": [
    "# Basic workflow"
   ]
  },
  {
   "cell_type": "markdown",
   "id": "1b2b7f89",
   "metadata": {},
   "source": [
    "## 1. Basic k-fold partitioning"
   ]
  },
  {
   "cell_type": "code",
   "execution_count": 2,
   "id": "f799c90d",
   "metadata": {},
   "outputs": [],
   "source": [
    "# Provide the path to the preprocessed objects from 0_preprocess_sequence_and_identities.ipynb\n",
    "\n",
    "fasta_path = \"../../1_Computing_Similarity/example_input/ex3.fa\"\n",
    "keys_to_idx_path = \"../example_intermediate/ex3_key_to_idx.pickle\"\n",
    "hdf5_path = '../example_intermediate/ex3.h5'\n",
    "\n",
    "seqdb = sdo.SeqDB(fasta_path, keys_to_idx_path, hdf5_path)"
   ]
  },
  {
   "cell_type": "code",
   "execution_count": 26,
   "id": "fd762b7e",
   "metadata": {},
   "outputs": [
    {
     "name": "stderr",
     "output_type": "stream",
     "text": [
      "Finding Violations: 100%|██████████| 3/3 [00:00<00:00, 33.38it/s]\n",
      "Formatting Violations: 100%|██████████| 119/119 [00:00<00:00, 721274.82it/s]\n",
      "Adding Back Sequences: 100%|██████████| 67/67 [00:01<00:00, 54.09it/s]\n",
      "Finding Violations: 100%|██████████| 3/3 [00:01<00:00,  2.84it/s]\n",
      "Formatting Violations: 100%|██████████| 671/671 [00:00<00:00, 1610977.67it/s]\n",
      "Adding Back Sequences: 100%|██████████| 148/148 [00:00<00:00, 189.39it/s]\n"
     ]
    }
   ],
   "source": [
    "ts = 0.4\n",
    "tc = 0.5\n",
    "\n",
    "pos_keys = seqdb.get_positive_keys()\n",
    "neg_keys = seqdb.get_negative_keys()\n",
    "\n",
    "### Step 1. Split positives\n",
    "pos_splits = su.get_positive_splits(pos_keys, seqdb)\n",
    "\n",
    "### Step 2. Remove violations from positives\n",
    "pos_splits_1 = su.remove_violations(pos_splits, seqdb, ts)\n",
    "\n",
    "### Step 3. Split negatives without prior negative splits\n",
    "neg_splits_1 = su.get_negative_splits_seeded(pos_splits_1, \n",
    "    dict(), # No prior negative splits\n",
    "    seqdb, \n",
    "    ts, \n",
    "    neg_keys, \n",
    "    tc, \n",
    "    check_violations_at_the_end=True    # If no prior negative splits, check violations at the end\n",
    "    )"
   ]
  },
  {
   "cell_type": "markdown",
   "id": "849016ca",
   "metadata": {},
   "source": [
    "### 1.1. Partitioning negatives with a prior set of negative"
   ]
  },
  {
   "cell_type": "code",
   "execution_count": 27,
   "id": "d6fabd8a",
   "metadata": {},
   "outputs": [],
   "source": [
    "ts = 0.4\n",
    "tc = 0.4\n",
    "\n",
    "### Step 3. Split negatives without prior negative splits\n",
    "neg_splits_2 = su.get_negative_splits_seeded(pos_splits_1, \n",
    "    neg_splits_1, # With prior negative splits\n",
    "    seqdb, \n",
    "    ts, \n",
    "    neg_keys, \n",
    "    tc, \n",
    "    check_violations_at_the_end=False    # If no prior negative splits, check violations at the end\n",
    "    )"
   ]
  },
  {
   "cell_type": "markdown",
   "id": "9475eeb4",
   "metadata": {},
   "source": [
    "## 2. Dataset construction strategy"
   ]
  },
  {
   "cell_type": "markdown",
   "id": "bec9744a",
   "metadata": {},
   "source": [
    "### 2.1. No Balance"
   ]
  },
  {
   "cell_type": "code",
   "execution_count": 28,
   "id": "eff962c5",
   "metadata": {},
   "outputs": [
    {
     "name": "stdout",
     "output_type": "stream",
     "text": [
      "\n",
      "Positive split sizes:\n",
      "Pr_WHOIUIS_1001_1442_0 149\n",
      "Pr_WHOIUIS_1005_1445_1 146\n",
      "Pr_WHOIUIS_1008_1449_0 146\n",
      "\n",
      "\n",
      "Negative split sizes:\n",
      "Pr_WHOIUIS_1001_1442_0 99\n",
      "Pr_WHOIUIS_1005_1445_1 219\n",
      "Pr_WHOIUIS_1008_1449_0 223\n",
      "\n"
     ]
    }
   ],
   "source": [
    "print(\"\\nPositive split sizes:\")\n",
    "for k, v in pos_splits_1.items():\n",
    "    print(k, len(v))\n",
    "print()\n",
    "\n",
    "print(\"\\nNegative split sizes:\")\n",
    "for k, v in neg_splits_2.items():\n",
    "    print(k, len(v))\n",
    "print()\n"
   ]
  },
  {
   "cell_type": "markdown",
   "id": "824845e4",
   "metadata": {},
   "source": [
    "### 2.2. Hard Balance"
   ]
  },
  {
   "cell_type": "code",
   "execution_count": 29,
   "id": "7c3ddc77",
   "metadata": {},
   "outputs": [],
   "source": [
    "neg_splits_balanced = su.get_balance(pos_splits_1, neg_splits_2)"
   ]
  },
  {
   "cell_type": "code",
   "execution_count": 30,
   "id": "c34716c1",
   "metadata": {},
   "outputs": [
    {
     "name": "stdout",
     "output_type": "stream",
     "text": [
      "\n",
      "Positive split sizes:\n",
      "Pr_WHOIUIS_1001_1442_0 149\n",
      "Pr_WHOIUIS_1005_1445_1 146\n",
      "Pr_WHOIUIS_1008_1449_0 146\n",
      "\n",
      "\n",
      "Negative split sizes:\n",
      "Pr_WHOIUIS_1001_1442_0 99\n",
      "Pr_WHOIUIS_1005_1445_1 146\n",
      "Pr_WHOIUIS_1008_1449_0 146\n",
      "\n"
     ]
    }
   ],
   "source": [
    "print(\"\\nPositive split sizes:\")\n",
    "for k, v in pos_splits_1.items():\n",
    "    print(k, len(v))\n",
    "print()\n",
    "\n",
    "print(\"\\nNegative split sizes:\")\n",
    "for k, v in neg_splits_balanced.items():\n",
    "    print(k, len(v))\n",
    "print()\n"
   ]
  },
  {
   "cell_type": "markdown",
   "id": "76962448",
   "metadata": {},
   "source": [
    "### 2.3. Length Control"
   ]
  },
  {
   "cell_type": "code",
   "execution_count": 31,
   "id": "1a325270",
   "metadata": {},
   "outputs": [],
   "source": [
    "neg_splits_lenth_control = su.get_length_control(pos_splits_1, neg_splits_2, seqdb)"
   ]
  },
  {
   "cell_type": "code",
   "execution_count": 32,
   "id": "b7dec8a3",
   "metadata": {},
   "outputs": [
    {
     "name": "stdout",
     "output_type": "stream",
     "text": [
      "\n",
      "Positive split sizes:\n",
      "Pr_WHOIUIS_1001_1442_0 149\n",
      "Pr_WHOIUIS_1005_1445_1 146\n",
      "Pr_WHOIUIS_1008_1449_0 146\n",
      "\n",
      "\n",
      "Negative split sizes:\n",
      "Pr_WHOIUIS_1001_1442_0 99\n",
      "Pr_WHOIUIS_1005_1445_1 146\n",
      "Pr_WHOIUIS_1008_1449_0 146\n",
      "\n"
     ]
    }
   ],
   "source": [
    "print(\"\\nPositive split sizes:\")\n",
    "for k, v in pos_splits_1.items():\n",
    "    print(k, len(v))\n",
    "print()\n",
    "\n",
    "print(\"\\nNegative split sizes:\")\n",
    "for k, v in neg_splits_lenth_control.items():\n",
    "    print(k, len(v))\n",
    "print()\n"
   ]
  },
  {
   "cell_type": "markdown",
   "id": "f346fc54",
   "metadata": {},
   "source": [
    "### 2.4. Minimal"
   ]
  },
  {
   "cell_type": "code",
   "execution_count": 35,
   "id": "384fdc73",
   "metadata": {},
   "outputs": [],
   "source": [
    "pos_splits_minimal, neg_splits_minimal = su.get_minimal(pos_splits_1, neg_splits_2, seqdb, min_pos=50, min_neg=50, tc=tc)"
   ]
  },
  {
   "cell_type": "code",
   "execution_count": 36,
   "id": "dda2cab7",
   "metadata": {},
   "outputs": [
    {
     "name": "stdout",
     "output_type": "stream",
     "text": [
      "\n",
      "Positive split sizes:\n",
      "Pr_WHOIUIS_1001_1442_0 50\n",
      "Pr_WHOIUIS_1005_1445_1 50\n",
      "Pr_WHOIUIS_1008_1449_0 50\n",
      "\n",
      "\n",
      "Negative split sizes:\n",
      "Pr_WHOIUIS_1001_1442_0 50\n",
      "Pr_WHOIUIS_1005_1445_1 50\n",
      "Pr_WHOIUIS_1008_1449_0 50\n",
      "\n"
     ]
    }
   ],
   "source": [
    "print(\"\\nPositive split sizes:\")\n",
    "for k, v in pos_splits_minimal.items():\n",
    "    print(k, len(v))\n",
    "print()\n",
    "\n",
    "print(\"\\nNegative split sizes:\")\n",
    "for k, v in neg_splits_minimal.items():\n",
    "    print(k, len(v))\n",
    "print()\n"
   ]
  },
  {
   "cell_type": "markdown",
   "id": "0344efc3",
   "metadata": {},
   "source": [
    "# Inspect splits"
   ]
  },
  {
   "cell_type": "code",
   "execution_count": 37,
   "id": "b71f31e5",
   "metadata": {},
   "outputs": [],
   "source": [
    "import matplotlib.pyplot as plt"
   ]
  },
  {
   "cell_type": "markdown",
   "id": "82c8cfd4",
   "metadata": {},
   "source": [
    "## Check inter-split identities between positive splits"
   ]
  },
  {
   "cell_type": "code",
   "execution_count": 40,
   "id": "2d27d1d1",
   "metadata": {},
   "outputs": [
    {
     "data": {
      "image/png": "[encoded data removed]",
      "text/plain": [
       "<Figure size 750x250 with 3 Axes>"
      ]
     },
     "metadata": {},
     "output_type": "display_data"
    }
   ],
   "source": [
    "split_keys = sorted(list(pos_splits_1.keys()))\n",
    "\n",
    "fig, ax = plt.subplots(1, len(split_keys), sharex=True, figsize=(7.5, 2.5))\n",
    "\n",
    "n = 0\n",
    "for n_split_key1, split_key1 in enumerate(split_keys):\n",
    "    seqs1 = sorted(list(pos_splits_1[split_key1]))\n",
    "    for n_split_key2, split_key2 in enumerate(split_keys[:n_split_key1]):\n",
    "        seqs2 = sorted(list(pos_splits_1[split_key2]))\n",
    "        idents = seqdb.get_ident(seqs1, seqs2)\n",
    "\n",
    "        max_idents = np.max(idents, axis = 1)\n",
    "        \n",
    "        binsize = 0.025\n",
    "        counts, bins = np.histogram(max_idents, bins=np.arange(-0.01, 1.01, binsize))\n",
    "        ax[n].bar(bins[:-1], counts, width=binsize)\n",
    "        ax[n].axvline(0.4, color='red')\n",
    "        ax[n].set_title(\"Split {:} pos. vs. split {:} pos. at Ts = 0.4\".format(n_split_key1, n_split_key2), fontsize=8)\n",
    "        ax[n].tick_params(axis=\"both\", labelsize=8)\n",
    "        n += 1\n",
    "fig.tight_layout(pad=0.2)\n",
    "plt.show()"
   ]
  },
  {
   "cell_type": "markdown",
   "id": "35dfb859",
   "metadata": {},
   "source": [
    "## Check inter-split identities between negative splits at Ts=0.4"
   ]
  },
  {
   "cell_type": "code",
   "execution_count": 41,
   "id": "dc9d35f1",
   "metadata": {},
   "outputs": [
    {
     "data": {
      "image/png": "[encoded data removed]",
      "text/plain": [
       "<Figure size 750x250 with 3 Axes>"
      ]
     },
     "metadata": {},
     "output_type": "display_data"
    }
   ],
   "source": [
    "split_keys = sorted(list(neg_splits_1.keys()))\n",
    "\n",
    "fig, ax = plt.subplots(1, len(split_keys), sharex=True, figsize=(7.5, 2.5))\n",
    "\n",
    "n = 0\n",
    "for n_split_key1, split_key1 in enumerate(split_keys):\n",
    "    seqs1 = sorted(list(neg_splits_1[split_key1]))\n",
    "    for n_split_key2, split_key2 in enumerate(split_keys[:n_split_key1]):\n",
    "        seqs2 = sorted(list(neg_splits_1[split_key2]))\n",
    "        idents = seqdb.get_ident(seqs1, seqs2)\n",
    "\n",
    "        max_idents = np.max(idents, axis = 1)\n",
    "        \n",
    "        binsize = 0.025\n",
    "        counts, bins = np.histogram(max_idents, bins=np.arange(-0.01, 1.01, binsize))\n",
    "        ax[n].bar(bins[:-1], counts, width=binsize)\n",
    "        ax[n].axvline(0.4, color='red')\n",
    "        ax[n].set_title(\"Split {:} neg. vs. split {:} neg. at Ts = 0.4\".format(n_split_key1, n_split_key2), fontsize=8)\n",
    "        ax[n].tick_params(axis=\"both\", labelsize=8)\n",
    "        n += 1\n",
    "fig.tight_layout(pad=0.2)\n",
    "plt.show()"
   ]
  },
  {
   "cell_type": "markdown",
   "id": "33fb5f6f",
   "metadata": {},
   "source": [
    "## Check inter-class identites in each split"
   ]
  },
  {
   "cell_type": "code",
   "execution_count": 42,
   "id": "db39929b",
   "metadata": {},
   "outputs": [
    {
     "data": {
      "image/png": "[encoded data removed]",
      "text/plain": [
       "<Figure size 750x250 with 3 Axes>"
      ]
     },
     "metadata": {},
     "output_type": "display_data"
    }
   ],
   "source": [
    "split_keys = sorted(list(pos_splits_1.keys()))\n",
    "\n",
    "fig, ax = plt.subplots(1, len(split_keys), sharex=True, figsize=(7.5, 2.5))\n",
    "\n",
    "for n_split_key1, split_key1 in enumerate(split_keys):\n",
    "    seqs1 = sorted(list(neg_splits_1[split_key1]))\n",
    "    seqs2 = sorted(list(pos_splits_1[split_key1]))\n",
    "    idents = seqdb.get_ident(seqs1, seqs2)\n",
    "\n",
    "    max_idents = np.max(idents, axis = 1)\n",
    "    \n",
    "    binsize = 0.025\n",
    "    counts, bins = np.histogram(max_idents, bins=np.arange(-0.01, 1.01, binsize))\n",
    "    ax[n_split_key1].bar(bins[:-1], counts, width=binsize)\n",
    "    ax[n_split_key1].axvline(0.5, color='red')\n",
    "    ax[n_split_key1].set_title(\"Split {:} neg. vs. split {:} neg. at Tc = 0.5\".format(n_split_key1, n_split_key1), fontsize=8)\n",
    "    ax[n_split_key1].tick_params(axis=\"both\", labelsize=8)\n",
    "fig.tight_layout(pad=0.2)\n",
    "plt.show()"
   ]
  },
  {
   "cell_type": "code",
   "execution_count": 43,
   "id": "451a0c38",
   "metadata": {},
   "outputs": [
    {
     "data": {
      "image/png": "[encoded data removed]",
      "text/plain": [
       "<Figure size 750x250 with 3 Axes>"
      ]
     },
     "metadata": {},
     "output_type": "display_data"
    }
   ],
   "source": [
    "split_keys = sorted(list(pos_splits_1.keys()))\n",
    "\n",
    "fig, ax = plt.subplots(1, len(split_keys), sharex=True, figsize=(7.5, 2.5))\n",
    "\n",
    "for n_split_key1, split_key1 in enumerate(split_keys):\n",
    "    seqs1 = sorted(list(neg_splits_2[split_key1]))\n",
    "    seqs2 = sorted(list(pos_splits_1[split_key1]))\n",
    "    idents = seqdb.get_ident(seqs1, seqs2)\n",
    "\n",
    "    max_idents = np.max(idents, axis = 1)\n",
    "    \n",
    "    binsize = 0.025\n",
    "    counts, bins = np.histogram(max_idents, bins=np.arange(-0.01, 1.01, binsize))\n",
    "    ax[n_split_key1].bar(bins[:-1], counts, width=binsize)\n",
    "    ax[n_split_key1].axvline(0.4, color='red')\n",
    "    ax[n_split_key1].set_title(\"Split {:} neg. vs. split {:} neg. at Tc = 0.4\".format(n_split_key1, n_split_key1), fontsize=8)\n",
    "    ax[n_split_key1].tick_params(axis=\"both\", labelsize=8)\n",
    "fig.tight_layout(pad=0.2)\n",
    "plt.show()"
   ]
  },
  {
   "cell_type": "code",
   "execution_count": null,
   "id": "d70bdb7f",
   "metadata": {},
   "outputs": [],
   "source": []
  },
  {
   "cell_type": "code",
   "execution_count": null,
   "id": "d6f0824b",
   "metadata": {},
   "outputs": [],
   "source": []
  },
  {
   "cell_type": "code",
   "execution_count": null,
   "id": "3d8bb9f8",
   "metadata": {},
   "outputs": [],
   "source": []
  },
  {
   "cell_type": "code",
   "execution_count": null,
   "id": "0553ba22",
   "metadata": {},
   "outputs": [],
   "source": []
  }
 ],
 "metadata": {
  "kernelspec": {
   "display_name": "pytorch112",
   "language": "python",
   "name": "python3"
  },
  "language_info": {
   "codemirror_mode": {
    "name": "ipython",
    "version": 3
   },
   "file_extension": ".py",
   "mimetype": "text/x-python",
   "name": "python",
   "nbconvert_exporter": "python",
   "pygments_lexer": "ipython3",
   "version": "3.10.9"
  }
 },
 "nbformat": 4,
 "nbformat_minor": 5
}

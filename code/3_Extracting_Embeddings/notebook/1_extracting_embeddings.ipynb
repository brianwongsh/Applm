{
 "cells": [
  {
   "cell_type": "markdown",
   "id": "af8b5fe3",
   "metadata": {},
   "source": [
    "# 1. Computing embeddings from protein sequence"
   ]
  },
  {
   "cell_type": "code",
   "execution_count": null,
   "id": "fb4b86c3",
   "metadata": {},
   "outputs": [],
   "source": [
    "import _pickle as cPickle\n",
    "import numpy as np\n",
    "import h5py\n",
    "from operator import itemgetter\n",
    "import copy\n",
    "import random\n",
    "from tqdm import tqdm\n",
    "from collections import Counter, defaultdict\n",
    "\n",
    "import sys\n",
    "sys.path.append(\"../utils/\")\n",
    "import encoders as en"
   ]
  },
  {
   "cell_type": "markdown",
   "id": "5938bda1",
   "metadata": {},
   "source": [
    "## 1.1. Get One-Hot Encoding"
   ]
  },
  {
   "cell_type": "code",
   "execution_count": null,
   "id": "c241e20b",
   "metadata": {},
   "outputs": [],
   "source": [
    "# Ubuntu                    22.04\n",
    "# CUDA                      12.4\n",
    "# Driver Version            550.54.14\n",
    "\n",
    "# miniconda3                24.1.2\n",
    "\n",
    "# python                    3.10.9 \n",
    "# numpy                     1.26.4"
   ]
  },
  {
   "cell_type": "code",
   "execution_count": null,
   "id": "2f24f263",
   "metadata": {},
   "outputs": [
    {
     "data": {
      "text/plain": [
       "(21, 1)"
      ]
     },
     "execution_count": 18,
     "metadata": {},
     "output_type": "execute_result"
    }
   ],
   "source": [
    "single_sequence = 'MNLLCCCCCSNMAPNQRVTRKWELFAGRNKFYCDGLLMSAPHTGVFYLTCILITGTSALF'\n",
    "\n",
    "encoder = en.OHE_Encoder()\n",
    "x = encoder.encode_sequence(single_sequence)\n",
    "x.shape"
   ]
  },
  {
   "cell_type": "markdown",
   "id": "112329a7",
   "metadata": {},
   "source": [
    "## 1.2. Get BLOSUM-62"
   ]
  },
  {
   "cell_type": "code",
   "execution_count": null,
   "id": "6c914579",
   "metadata": {},
   "outputs": [],
   "source": [
    "# Ubuntu                    22.04\n",
    "# CUDA                      12.4\n",
    "# Driver Version            550.54.14\n",
    "\n",
    "# miniconda3                24.1.2\n",
    "\n",
    "# python                    3.10.9 \n",
    "# numpy                     1.26.4"
   ]
  },
  {
   "cell_type": "code",
   "execution_count": null,
   "id": "066320f0",
   "metadata": {},
   "outputs": [
    {
     "data": {
      "text/plain": [
       "(23, 1)"
      ]
     },
     "execution_count": 20,
     "metadata": {},
     "output_type": "execute_result"
    }
   ],
   "source": [
    "single_sequence = 'MNLLCCCCCSNMAPNQRVTRKWELFAGRNKFYCDGLLMSAPHTGVFYLTCILITGTSALF'\n",
    "\n",
    "encoder = en.BL62_Encoder()\n",
    "x = encoder.encode_sequence(single_sequence)\n",
    "x.shape"
   ]
  },
  {
   "cell_type": "markdown",
   "id": "54f0cc86",
   "metadata": {},
   "source": [
    "## 1.3. Get ESM-2 Encoding"
   ]
  },
  {
   "cell_type": "code",
   "execution_count": null,
   "id": "22804dbb",
   "metadata": {},
   "outputs": [],
   "source": [
    "# Ubuntu                    22.04\n",
    "# CUDA                      12.4\n",
    "# Driver Version            550.54.14\n",
    "\n",
    "# miniconda3                24.1.2\n",
    "\n",
    "# python                    3.10.9 \n",
    "# numpy                     1.26.4\n",
    "# torch                     2.4.1\n",
    "# transformers              4.39.2\n",
    "# fair-esm                  2.0.0"
   ]
  },
  {
   "cell_type": "code",
   "execution_count": null,
   "id": "e19fc1ff",
   "metadata": {},
   "outputs": [
    {
     "data": {
      "text/plain": [
       "(1280, 1)"
      ]
     },
     "execution_count": 22,
     "metadata": {},
     "output_type": "execute_result"
    }
   ],
   "source": [
    "single_sequence = 'MNLLCCCCCSNMAPNQRVTRKWELFAGRNKFYCDGLLMSAPHTGVFYLTCILITGTSALF'\n",
    "\n",
    "encoder = en.ESM2_Encoder()\n",
    "x = encoder.encode_sequence(single_sequence)\n",
    "x.shape"
   ]
  },
  {
   "cell_type": "markdown",
   "id": "7a885c93",
   "metadata": {},
   "source": [
    "## 1.4. Get ProtT5 Encodings"
   ]
  },
  {
   "cell_type": "code",
   "execution_count": null,
   "id": "b68b1d61",
   "metadata": {},
   "outputs": [],
   "source": [
    "# Ubuntu                    22.04\n",
    "# CUDA                      12.4\n",
    "# Driver Version            550.54.14\n",
    "\n",
    "# miniconda3                24.1.2\n",
    "\n",
    "# python                    3.10.9 \n",
    "# numpy                     1.26.4\n",
    "# torch                     2.4.1\n",
    "# transformers              4.39.2"
   ]
  },
  {
   "cell_type": "code",
   "execution_count": null,
   "id": "9d778d77",
   "metadata": {},
   "outputs": [
    {
     "name": "stdout",
     "output_type": "stream",
     "text": [
      "Loading ProtT5 model: Rostlab/prot_t5_xl_half_uniref50-enc\n",
      "Using half precision on GPU.\n"
     ]
    },
    {
     "name": "stderr",
     "output_type": "stream",
     "text": [
      "You are using the default legacy behaviour of the <class 'transformers.models.t5.tokenization_t5.T5Tokenizer'>. This is expected, and simply means that the `legacy` (previous) behavior will be used so nothing changes for you. If you want to use the new behaviour, set `legacy=False`. This should only be set if you understand what it means, and thoroughly read the reason why this was added as explained in https://github.com/huggingface/transformers/pull/24565\n"
     ]
    },
    {
     "data": {
      "text/plain": [
       "(1024, 1)"
      ]
     },
     "execution_count": 24,
     "metadata": {},
     "output_type": "execute_result"
    }
   ],
   "source": [
    "single_sequence = 'MNLLCCCCCSNMAPNQRVTRKWELFAGRNKFYCDGLLMSAPHTGVFYLTCILITGTSALF'\n",
    "\n",
    "encoder = en.T5_Encoder()\n",
    "x = encoder.encode_sequence(single_sequence)\n",
    "x.shape"
   ]
  },
  {
   "cell_type": "markdown",
   "id": "a10e1a41",
   "metadata": {},
   "source": [
    "## 1.5. Get xTrimoPGLM Encoding"
   ]
  },
  {
   "cell_type": "code",
   "execution_count": null,
   "id": "82d122b7",
   "metadata": {},
   "outputs": [],
   "source": [
    "# Ubuntu                    22.04\n",
    "# CUDA                      12.4\n",
    "# Driver Version            550.54.14\n",
    "\n",
    "# miniconda3                24.1.2\n",
    "\n",
    "# python                    3.13.2 \n",
    "# numpy                     2.2.4\n",
    "# torch                     2.6.0\n",
    "# transformers              4.51.1\n",
    "# deepspeed                 0.16.5"
   ]
  },
  {
   "cell_type": "code",
   "execution_count": null,
   "id": "cfd959c3",
   "metadata": {},
   "outputs": [],
   "source": [
    "single_sequence = 'MNLLCCCCCSNMAPNQRVTRKWELFAGRNKFYCDGLLMSAPHTGVFYLTCILITGTSALF'\n",
    "\n",
    "encoder = en.xTrimoPGLM_Encoder()\n",
    "x = encoder.encode_sequence(single_sequence)\n",
    "x.shape"
   ]
  },
  {
   "cell_type": "markdown",
   "id": "fa548cf7",
   "metadata": {},
   "source": [
    "# 2. Example saving to a pickle object"
   ]
  },
  {
   "cell_type": "code",
   "execution_count": null,
   "id": "aa53b946",
   "metadata": {},
   "outputs": [],
   "source": [
    "with open(\"example.pickle\", 'wb') as file:\n",
    "    cPickle.dump(x, file)\n",
    "    cPickle.dump(np.array([0.]), file)   # [0.] for negative, [1.] for positive"
   ]
  }
 ],
 "metadata": {
  "kernelspec": {
   "display_name": "pytorch112",
   "language": "python",
   "name": "python3"
  },
  "language_info": {
   "codemirror_mode": {
    "name": "ipython",
    "version": 3
   },
   "file_extension": ".py",
   "mimetype": "text/x-python",
   "name": "python",
   "nbconvert_exporter": "python",
   "pygments_lexer": "ipython3",
   "version": "3.10.9"
  }
 },
 "nbformat": 4,
 "nbformat_minor": 5
}
